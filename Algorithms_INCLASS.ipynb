{
 "cells": [
  {
   "cell_type": "markdown",
   "metadata": {},
   "source": [
    "# Algorithms, Binary Search & Linked Lists"
   ]
  },
  {
   "cell_type": "markdown",
   "metadata": {},
   "source": [
    "## Tasks Today:\n",
    " \n",
    "1) <b>In-Place Algorithms</b> <br>\n",
    " &nbsp;&nbsp;&nbsp;&nbsp; a) Syntax <br>\n",
    " &nbsp;&nbsp;&nbsp;&nbsp; a) Out of Place Algorithm <br>\n",
    " &nbsp;&nbsp;&nbsp;&nbsp; b) In-Class Exercise #1 <br>\n",
    "2) <b>Two Pointers</b> <br>\n",
    "3) <b>Linked Lists</b> <br>\n",
    "4) <b>Merge Sort</b> <br>\n",
    " &nbsp;&nbsp;&nbsp;&nbsp; a) Video on Algorithms <br>\n",
    " &nbsp;&nbsp;&nbsp;&nbsp; b) How it Works <br>\n",
    "5) <b>Exercises</b> <br>\n",
    " &nbsp;&nbsp;&nbsp;&nbsp; a) Exercise #1 - Reverse a List in Place Using an In-Place Algorithm <br>\n",
    " &nbsp;&nbsp;&nbsp;&nbsp; b) Exercise #2 - Find Distinct Words <br>\n",
    " &nbsp;&nbsp;&nbsp;&nbsp; c) Exercise #3 - Write a program to implement a Linear Search Algorithm. <br>"
   ]
  },
  {
   "cell_type": "markdown",
   "metadata": {},
   "source": [
    "## In-Place Algorithms"
   ]
  },
  {
   "cell_type": "markdown",
   "metadata": {},
   "source": [
    "#### Syntax"
   ]
  },
  {
   "cell_type": "code",
   "execution_count": 6,
   "metadata": {},
   "outputs": [
    {
     "name": "stdout",
     "output_type": "stream",
     "text": [
      "4650250816\n",
      "before swap [12, 3, 56]\n",
      "4650250816\n",
      "after swap [3, 56, 12]\n"
     ]
    }
   ],
   "source": [
    "def swap(a_list, x, y, z):\n",
    "    a_list[x], a_list[y], a_list[z] = a_list[y], a_list[z], a_list[x]\n",
    "    return a_list\n",
    "\n",
    "this_list = [12, 3, 56]\n",
    "\n",
    "print(id(this_list))\n",
    "print(f'before swap {this_list}')\n",
    "\n",
    "swap(this_list, 0, 1, 2)\n",
    "\n",
    "print(id(this_list))\n",
    "print(f'after swap {this_list}')"
   ]
  },
  {
   "cell_type": "markdown",
   "metadata": {},
   "source": [
    "#### Out of Place Algorithm"
   ]
  },
  {
   "cell_type": "code",
   "execution_count": 9,
   "metadata": {},
   "outputs": [
    {
     "name": "stdout",
     "output_type": "stream",
     "text": [
      "before swap ['a', 'b', 'c', 'd']\n",
      "4650034624\n",
      "after the swap ['d', 'c', 'b', 'a']\n",
      "4650199872\n"
     ]
    }
   ],
   "source": [
    "my_list = ['a', 'b', 'c', 'd']\n",
    "\n",
    "print(f'before swap {my_list}')\n",
    "print(id(my_list))\n",
    "\n",
    "def my_swap(a_list):\n",
    "    output = []\n",
    "    for letter  in a_list[::-1]:\n",
    "        output.append(letter)\n",
    "    return output\n",
    "\n",
    "my_list = my_swap(my_list)\n",
    "\n",
    "print(f'after the swap {my_list}')\n",
    "print(id(my_list))\n"
   ]
  },
  {
   "cell_type": "markdown",
   "metadata": {},
   "source": [
    "#### In-Class Exercise #1 <br>\n",
    "<p>Write a function that takes in four arguments (list, index1, index2, index3), and swaps those three positions in the list passed in.</p>"
   ]
  },
  {
   "cell_type": "code",
   "execution_count": 7,
   "metadata": {},
   "outputs": [
    {
     "name": "stdout",
     "output_type": "stream",
     "text": [
      "[10, 8, 3, 2, 4, 4, 6]\n"
     ]
    }
   ],
   "source": [
    "l_1 = [10, 4, 3, 8, 4, 2, 6]\n",
    "\n",
    "def swap(list, index1, index2, index3):\n",
    "    list[index1], list[index2], list[index3] = list[index2], list[index3], list[index1]\n",
    "    return list\n",
    "\n",
    "print(swap(l_1, 1, 3, 5)) "
   ]
  },
  {
   "cell_type": "markdown",
   "metadata": {},
   "source": [
    "## Two Pointers"
   ]
  },
  {
   "cell_type": "markdown",
   "metadata": {},
   "source": [
    "#### Syntax"
   ]
  },
  {
   "cell_type": "code",
   "execution_count": 13,
   "metadata": {},
   "outputs": [
    {
     "name": "stdout",
     "output_type": "stream",
     "text": [
      "[11, 10, 9, 8, 7, 6, 5, 4, 3, 2, 1]\n"
     ]
    }
   ],
   "source": [
    "test_list = [1, 2, 3, 4, 5, 6, 7, 8, 9, 10, 11]\n",
    "\n",
    "def two_pointer(a_list):\n",
    "    left = 0\n",
    "    right = len(a_list) - 1\n",
    "    while left <= right:\n",
    "        a_list[left], a_list[right] = a_list[right], a_list[left]\n",
    "        left += 1\n",
    "        right -= 1\n",
    "    return a_list\n",
    "\n",
    "print(two_pointer(test_list))"
   ]
  },
  {
   "cell_type": "markdown",
   "metadata": {},
   "source": [
    "#### Video of Algorithms <br>\n",
    "<p>Watch the video about algorithms.</p>\n",
    "\n",
    "https://www.youtube.com/watch?v=Q9HjeFD62Uk\n",
    "\n",
    "https://www.youtube.com/watch?v=kPRA0W1kECg\n",
    "\n",
    "https://www.youtube.com/watch?v=ZZuD6iUe3Pc"
   ]
  },
  {
   "cell_type": "markdown",
   "metadata": {},
   "source": [
    "# Sorting Algorithms"
   ]
  },
  {
   "cell_type": "markdown",
   "metadata": {},
   "source": [
    "#### Bubble Sort\n",
    "\n",
    "Worst Case: O(n^2) Time - O(1) Space"
   ]
  },
  {
   "cell_type": "code",
   "execution_count": 14,
   "metadata": {},
   "outputs": [
    {
     "name": "stdout",
     "output_type": "stream",
     "text": [
      "[2, 3, 5, 5, 6, 8, 9]\n"
     ]
    }
   ],
   "source": [
    "input = [8, 5, 2, 9, 5, 6, 3]\n",
    "\n",
    "\n",
    "def swap(a_list, x, y):\n",
    "    a_list[x], a_list[y] = a_list[y], a_list[x]\n",
    "    return a_list\n",
    "\n",
    "def bubbleSort(a_list):\n",
    "    sorted = False\n",
    "\n",
    "    while not sorted:\n",
    "        sorted = True\n",
    "        for i in range(len(a_list) - 1):\n",
    "            if a_list[i] > a_list[i + 1]:\n",
    "                swap(a_list, i, i + 1)\n",
    "                sorted = False\n",
    "\n",
    "    return a_list\n",
    "\n",
    "print(bubbleSort(input))\n"
   ]
  },
  {
   "cell_type": "markdown",
   "metadata": {},
   "source": [
    "##### Insertion Sort\n",
    "\n",
    "Worst Case: O(n^2) time - O(1)space"
   ]
  },
  {
   "cell_type": "code",
   "execution_count": 16,
   "metadata": {},
   "outputs": [
    {
     "name": "stdout",
     "output_type": "stream",
     "text": [
      "[2, 3, 5, 5, 6, 8, 9]\n"
     ]
    }
   ],
   "source": [
    "input = [8, 5, 2, 9, 5, 6, 3]\n",
    "\n",
    "def swap(a_list, x, y):\n",
    "    a_list[x], a_list[y] = a_list[y], a_list[x]\n",
    "\n",
    "def insertionSort(a_list):\n",
    "    for i in range(1, len(a_list)):\n",
    "        while i > 0 and a_list[i] < a_list[i - 1]:\n",
    "            swap(a_list, i, i - 1)\n",
    "            i -= 1\n",
    "    \n",
    "    return a_list\n",
    "\n",
    "print(insertionSort(input))"
   ]
  },
  {
   "cell_type": "markdown",
   "metadata": {},
   "source": [
    "## Merge Sort"
   ]
  },
  {
   "cell_type": "markdown",
   "metadata": {},
   "source": [
    "#### How it Works"
   ]
  },
  {
   "cell_type": "code",
   "execution_count": 18,
   "metadata": {},
   "outputs": [
    {
     "name": "stdout",
     "output_type": "stream",
     "text": [
      "[2, 3, 5, 5, 6, 8, 9]\n"
     ]
    }
   ],
   "source": [
    "input = [8, 5, 2, 9, 5, 6, 3]\n",
    "\n",
    "def mergeSort(a_list):\n",
    "\n",
    "    if len(a_list) > 1:\n",
    "        middle = len(a_list) // 2\n",
    "        left_half = a_list[:middle]\n",
    "        right_half = a_list[middle:]\n",
    "\n",
    "        mergeSort(left_half)\n",
    "        mergeSort(right_half)\n",
    "\n",
    "    # index point for our list\n",
    "        i = 0 # pointer for our left half\n",
    "        j = 0 # pointer for our right half\n",
    "        k = 0 # pointer for main list that we will merge into\n",
    "\n",
    "    # Compare the left and right half until list is empty\n",
    "\n",
    "        while i < len(left_half) and j < len(right_half):\n",
    "            if left_half[i] < right_half[j]:\n",
    "                a_list[k] = left_half[i]\n",
    "                i += 1\n",
    "            else:\n",
    "                a_list[k] = right_half[j]\n",
    "                j += 1\n",
    "            k += 1\n",
    "\n",
    "    # Fills in from the list that is not empty\n",
    "\n",
    "        while i < len(left_half):\n",
    "            a_list[k] = left_half[i]\n",
    "            i += 1\n",
    "            k += 1\n",
    "\n",
    "        while j < len(right_half):\n",
    "            a_list[k] = right_half[j]\n",
    "            j += 1\n",
    "            k += 1\n",
    "\n",
    "        return a_list\n",
    "\n",
    "print(mergeSort(input))"
   ]
  },
  {
   "cell_type": "markdown",
   "metadata": {},
   "source": [
    "# Binary Search\n",
    "\n",
    "The Binary Search algorithm works by finding the number in the middle of a given array and comparing it to the target. Given that the array is sorted\n",
    "\n",
    "* The worst case run time for this algorithm is `O(log(n))`"
   ]
  },
  {
   "cell_type": "code",
   "execution_count": 22,
   "metadata": {},
   "outputs": [
    {
     "data": {
      "text/plain": [
       "'Winner Winner Chicken Dinner found 7 at the 2 index'"
      ]
     },
     "execution_count": 22,
     "metadata": {},
     "output_type": "execute_result"
    }
   ],
   "source": [
    "def binarySearch(a_list, target):\n",
    "    left = 0\n",
    "    right = len(a_list)\n",
    "    while left <= right:\n",
    "        middle = (left + right) // 2\n",
    "        potential_match = a_list[middle]\n",
    "        if target == potential_match:\n",
    "            return f'Winner Winner Chicken Dinner found {target} at the {middle} index'\n",
    "        elif target < potential_match:\n",
    "            right = middle - 1\n",
    "        else:\n",
    "            left = middle + 1\n",
    "    return f'Target not in list'\n",
    "\n",
    "binarySearch([1, 5, 7, 18, 39, 50, 70, 86, 1003], 7)\n"
   ]
  },
  {
   "cell_type": "markdown",
   "metadata": {},
   "source": [
    "# Exercises"
   ]
  },
  {
   "cell_type": "markdown",
   "metadata": {},
   "source": [
    "### Exercise #1 <br>\n",
    "<p>Reverse the list below in-place using an in-place algorithm.<br>For extra credit: Reverse the strings at the same time.</p>"
   ]
  },
  {
   "cell_type": "code",
   "execution_count": 35,
   "metadata": {},
   "outputs": [
    {
     "name": "stdout",
     "output_type": "stream",
     "text": [
      "['.', 'sentence', 'a', 'is', 'this']\n"
     ]
    }
   ],
   "source": [
    "words = ['this' , 'is', 'a', 'sentence', '.']\n",
    "def reverse_list(list1):\n",
    "    left = 0\n",
    "    right = len(list1) - 1\n",
    "    while left <= right:\n",
    "        list1[left], list1[right] = list1[right], list1[left]\n",
    "        left += 1\n",
    "        right -= 1\n",
    "    return list1\n",
    "\n",
    "print(reverse_list(words))"
   ]
  },
  {
   "cell_type": "markdown",
   "metadata": {},
   "source": [
    "### Exercise #2 <br>\n",
    "<p>Create a function that counts how many distinct words are in the string below, then outputs a dictionary with the words as the key and the value as the amount of times that word appears in the string.<br>Should output:<br>{'a': 5,<br>\n",
    " 'abstract': 1,<br>\n",
    " 'an': 3,<br>\n",
    " 'array': 2, ... etc...</p>"
   ]
  },
  {
   "cell_type": "code",
   "execution_count": 60,
   "metadata": {},
   "outputs": [
    {
     "name": "stdout",
     "output_type": "stream",
     "text": [
      "{'a': 5, 'abstract': 1, 'an': 3, 'array': 2, 'associative': 1, 'be': 1, 'buckets': 1, 'can': 2, 'compute': 1, 'computing,': 1, 'data': 2, 'desired': 1, 'found': 1, 'from': 1, 'function': 1, 'hash': 4, 'implements': 1, 'in': 1, 'index': 1, 'into': 1, 'is': 1, 'keys': 1, 'map': 2, 'of': 1, 'or': 1, 'slots': 1, 'structure': 2, 'table': 2, 'that': 1, 'the': 1, 'to': 2, 'type,': 1, 'uses': 1, 'value': 1, 'values.': 1, 'which': 2}\n"
     ]
    }
   ],
   "source": [
    "a_text = 'In computing, a hash table hash map is a data structure which implements an associative array abstract data type, a structure that can map keys to values. A hash table uses a hash function to compute an index into an array of buckets or slots from which the desired value can be found'\n",
    "def distinct_words(str):\n",
    "    str1 = str.lower()\n",
    "    str2 = str1.split()\n",
    "    distinct = {}\n",
    "    for word in str2:\n",
    "        if word not in distinct:\n",
    "            distinct[word] = 1\n",
    "        elif word in distinct:\n",
    "            distinct[word] = distinct[word] + 1\n",
    "    sorted_distinct = sorted(distinct.items())\n",
    "    return dict(sorted_distinct)\n",
    "    \n",
    "print(distinct_words(a_text))"
   ]
  },
  {
   "cell_type": "markdown",
   "metadata": {},
   "source": [
    "## Exercise #3\n",
    "\n",
    "Write a program to implement a Linear Search Algorithm. Also in a comment, write the Time Complexity of the following algorithm.\n",
    "\n",
    "#### Hint: Linear Searching will require searching a list for a given number. "
   ]
  },
  {
   "cell_type": "code",
   "execution_count": 120,
   "metadata": {},
   "outputs": [
    {
     "name": "stdout",
     "output_type": "stream",
     "text": [
      "2 found at: 1 index!\n"
     ]
    }
   ],
   "source": [
    "linear_list = [1,2,3,4,5,6,7,8,9,10]\n",
    "def linear_search(list1, num):\n",
    "     \n",
    "    for num1 in range(len(list1)):\n",
    "        if list1[num1] == num:\n",
    "            return f'{num} found at: {num1} index!'\n",
    "    return f'Not found'\n",
    "print(linear_search(linear_list, 2))\n",
    "    "
   ]
  }
 ],
 "metadata": {
  "kernelspec": {
   "display_name": "Python 3",
   "language": "python",
   "name": "python3"
  },
  "language_info": {
   "codemirror_mode": {
    "name": "ipython",
    "version": 3
   },
   "file_extension": ".py",
   "mimetype": "text/x-python",
   "name": "python",
   "nbconvert_exporter": "python",
   "pygments_lexer": "ipython3",
   "version": "3.11.2"
  }
 },
 "nbformat": 4,
 "nbformat_minor": 2
}
